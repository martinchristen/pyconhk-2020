{
 "cells": [
  {
   "cell_type": "markdown",
   "metadata": {},
   "source": [
    "<img src=\"https://pycon.hk/wp-content/uploads/2018/10/pyconhk-logo-R-1038x576.jpg\" width=\"25%\"></img>\n",
    "\n",
    "# Geospatial Data Processing using Python\n",
    "\n",
    "Prof. Martin Christen<br/>\n",
    "University of Applied Sciences and Arts Northwestern Switzerland<br/>\n",
    "Institute Geomatics\n",
    "\n",
    "### Github\n",
    "\n",
    "This notebook can be downloaded here:\n",
    "https://github.com/martinchristen/pyconhk-2020"
   ]
  },
  {
   "cell_type": "markdown",
   "metadata": {},
   "source": [
    "### Installation\n",
    "\n",
    "Download Anaconda: https://www.anaconda.com/products/individual <br/>\n",
    "Use the Anaconda Prompt to enter everything below.\n",
    "\n",
    "1. Create the virtual environment named \"geopython\" and activate it:\n",
    "\n",
    "       conda create --name geopython python=3.7 -y\n",
    "       conda activate geopython\n",
    "\n",
    "\n",
    "2. Add this environment to Jupyter (for example using \"GeoPython\" as name)\n",
    "\n",
    "       conda install ipykernel -y\n",
    "       python -m ipykernel install --user --name GeoPython\n",
    "   \n",
    "   \n",
    "3. Install geospatial modules (we will add more later)\n",
    "\n",
    "       conda install gdal rasterio matplotlib geopandas -y\n",
    "       conda install geoplot folium osmnx folium -c conda-forge -y\n",
    "\n",
    "\n",
    "#### Jupyter Bug\n",
    "\n",
    "When creating custom Kernels there is a bug in Jupyter (Bug: https://github.com/jupyter/notebook/issues/4569) \n",
    "\n",
    "We have to manually add to the PATH environment, and we also have to set \"PROJ_LIB\".<br/>\n",
    "(you could also add this to ~/.ipython/profile_default/startup/ipython_startup.py )<br/>\n",
    "<br/>\n",
    "I prepared a function in geoutils.py called \"fixenv\" to fix the PATH and PROJ_LIB.\n"
   ]
  },
  {
   "cell_type": "code",
   "execution_count": null,
   "metadata": {},
   "outputs": [],
   "source": [
    "# fix dll/so problem\n",
    "import geoutils\n",
    "geoutils.fixenv()"
   ]
  },
  {
   "cell_type": "code",
   "execution_count": null,
   "metadata": {},
   "outputs": [],
   "source": [
    "%matplotlib inline"
   ]
  },
  {
   "cell_type": "markdown",
   "metadata": {},
   "source": [
    "## What is Geospatial Data ?\n",
    "\n",
    "Geospatial data is data with a spatial component - it describes objects with a spatial reference to the earth’s surface. This data consists of a spatial component (**where**), attributes (**what**), and often a time reference (**when**).\n",
    "\n",
    "Geospatial data is multidimensional, we need at least two coordinates to define a position (for example x and y). Geospatial data can be huge - some datasets may be in the terabyte to petabyte range, which also makes it really hard to display it or to update it. \n",
    "And when we want to view the data it is usually projected to a flat surface. There are two main methods of representing geospatial data digitally. Both methods try to reduce the reality of something we can store on the computer, the first kind is called **raster data** and the second **vector data**.\n",
    "\n",
    "\n",
    "\n",
    "## Vector Data\n",
    "\n",
    "### Introduction to Shapely\n",
    "\n",
    "http://toblerity.org/shapely\n",
    "http://toblerity.org/shapely/manual.html\n",
    "\n",
    "Shapely is a BSD-licensed Python package for **manipulation** and **analysis** of **planar geometric objects**. \n",
    "\n",
    "* Shapely is **not** concerned with data formats or coordinate systems.\n",
    "* Shapely is based on the widely deployed GEOS (the engine of PostGIS) and JTS (from which GEOS is ported) libraries.\n",
    "\n",
    "There is also PyGEOS https://pypi.org/project/pygeos/ - I'm not using it at this time.\n",
    "\n",
    "### Simple Feature Access\n",
    "\n",
    "http://www.opengeospatial.org/standards/sfa\n",
    "\n",
    "https://en.wikipedia.org/wiki/Simple_Features\n",
    "\n",
    "\n",
    "**Simple Feature Access** is both an Open Geospatial Consortium (OGC) and International Organization for Standardization (ISO) standard **ISO 19125** that specifies a common storage and access model of mostly two-dimensional geometries (point, line, polygon, multi-point, multi-line, etc.) used by geographic information systems.\n",
    "\n",
    "Shapely supports the following Features:\n",
    "\n",
    "* Point\n",
    "* LineString\n",
    "* LinearRing          \n",
    "* Polygon\n",
    "* MultiLineString\n",
    "* MultiPoint\n",
    "* MultiPolygon\n",
    "\n",
    "![image](img/features.png)"
   ]
  },
  {
   "cell_type": "code",
   "execution_count": null,
   "metadata": {},
   "outputs": [],
   "source": [
    "from shapely.geometry import Polygon, Point, MultiPolygon\n",
    "\n",
    "polygon1 = Polygon([(30, 10), (40, 40), (20, 35), (10, 20), (30, 10)])\n",
    "\n",
    "print(f\"Polygon area: {polygon1.area}, polygon length: {polygon1.length}\") "
   ]
  },
  {
   "cell_type": "code",
   "execution_count": null,
   "metadata": {},
   "outputs": [],
   "source": [
    "polygon1"
   ]
  },
  {
   "cell_type": "code",
   "execution_count": null,
   "metadata": {},
   "outputs": [],
   "source": [
    "# plotting using cartopy:\n",
    "import plotshape"
   ]
  },
  {
   "cell_type": "code",
   "execution_count": null,
   "metadata": {},
   "outputs": [],
   "source": [
    "plotshape.plot(polygon1);"
   ]
  },
  {
   "cell_type": "code",
   "execution_count": null,
   "metadata": {},
   "outputs": [],
   "source": [
    "polygon2 = Polygon([(20,20),(80,30),(50,40),(20,20)])\n",
    "plotshape.plot(polygon2);"
   ]
  },
  {
   "cell_type": "code",
   "execution_count": null,
   "metadata": {},
   "outputs": [],
   "source": [
    "union = polygon2.union(polygon1)\n",
    "plotshape.plot(union);"
   ]
  },
  {
   "cell_type": "code",
   "execution_count": null,
   "metadata": {},
   "outputs": [],
   "source": [
    "intersecion = polygon2.intersection(polygon1)\n",
    "plotshape.plot(intersecion);"
   ]
  },
  {
   "cell_type": "code",
   "execution_count": null,
   "metadata": {},
   "outputs": [],
   "source": [
    "result = polygon2.symmetric_difference(polygon1)\n",
    "plotshape.plot(result);"
   ]
  },
  {
   "cell_type": "code",
   "execution_count": null,
   "metadata": {},
   "outputs": [],
   "source": [
    "s = result.wkt\n",
    "s"
   ]
  },
  {
   "cell_type": "code",
   "execution_count": null,
   "metadata": {},
   "outputs": [],
   "source": [
    "import shapely.wkt\n",
    "\n",
    "mypolygon = shapely.wkt.loads(s)\n",
    "plotshape.plot(mypolygon);"
   ]
  },
  {
   "cell_type": "markdown",
   "metadata": {},
   "source": [
    "There are also several binary operations available:\n",
    "\n",
    "- **contains** (Returns True if the interior of the object intersects the interior of the other but does not contain it, and the dimension of the intersection is less than the dimension of the one or the other.)\n",
    "- **intersects** (Returns True if the boundary and interior of the object intersect in any way with those of the other.)\n",
    "- **witin** (Returns True if the object’s boundary and interior intersect only with the interior of the other (not its boundary or exterior).\n",
    "- **touches** (Returns True if the objects have at least one point in common and their interiors do not intersect with any part of the other.)\n",
    "- **crosses** (Returns True if the interior of the object intersects the interior of the other but does not contain it, and the dimension of the intersection is less than the dimension of the one or the other.)\n",
    "- **equals** (Returns True if the set-theoretic boundary, interior, and exterior of the object coincide with those of the other.)"
   ]
  },
  {
   "cell_type": "code",
   "execution_count": null,
   "metadata": {},
   "outputs": [],
   "source": [
    "polygon1.intersects(polygon2)"
   ]
  },
  {
   "cell_type": "code",
   "execution_count": null,
   "metadata": {},
   "outputs": [],
   "source": [
    "polygon1.within(polygon2)"
   ]
  },
  {
   "cell_type": "markdown",
   "metadata": {},
   "source": [
    "### Let's get some data!\n",
    "\n",
    "We download and unzip the geopackage from https://www.naturalearthdata.com/"
   ]
  },
  {
   "cell_type": "code",
   "execution_count": null,
   "metadata": {},
   "outputs": [],
   "source": [
    "import os\n",
    "\n",
    "if not os.path.exists(\"geodata\"):\n",
    "    os.mkdir(\"geodata\")"
   ]
  },
  {
   "cell_type": "code",
   "execution_count": null,
   "metadata": {},
   "outputs": [],
   "source": [
    "import geoutils\n",
    "\n",
    "if not os.path.exists(\"geodata/ne.gpkg.zip\"):\n",
    "    ne = geoutils.geodata[\"natural-earth\"] # URL to Natural Earth Dataset (GeoPackage Format)\n",
    "    geoutils.download(ne, \"geodata/ne.gpkg.zip\")\n",
    "else:\n",
    "    print(\"dataset is already downloaded\")"
   ]
  },
  {
   "cell_type": "code",
   "execution_count": null,
   "metadata": {},
   "outputs": [],
   "source": [
    "import zipfile\n",
    "\n",
    "if not os.path.exists(\"geodata/packages/natural_earth_vector.gpkg\"):\n",
    "    with zipfile.ZipFile(\"geodata/ne.gpkg.zip\", 'r') as z:\n",
    "        z.extractall(\"geodata\")"
   ]
  },
  {
   "cell_type": "markdown",
   "metadata": {},
   "source": [
    "### Using GeoPandas\n",
    "\n",
    "GeoPandas is an open source project to make working with geospatial data in python easier. GeoPandas extends the datatypes used by pandas to allow spatial operations on geometric types. Geometric operations are performed by shapely. Geopandas further depends on fiona for file access and descartes and matplotlib for plotting."
   ]
  },
  {
   "cell_type": "code",
   "execution_count": null,
   "metadata": {},
   "outputs": [],
   "source": [
    "import geopandas as gpd\n",
    "\n",
    "filename = \"geodata/packages/natural_earth_vector.gpkg\"\n",
    "layer = \"ne_10m_admin_0_countries\"\n",
    "\n",
    "df = gpd.read_file(filename, layer=layer)"
   ]
  },
  {
   "cell_type": "code",
   "execution_count": null,
   "metadata": {},
   "outputs": [],
   "source": [
    "df.plot(figsize=(16,9));"
   ]
  },
  {
   "cell_type": "code",
   "execution_count": null,
   "metadata": {},
   "outputs": [],
   "source": [
    "df.head(5)"
   ]
  },
  {
   "cell_type": "code",
   "execution_count": null,
   "metadata": {},
   "outputs": [],
   "source": [
    "df.columns"
   ]
  },
  {
   "cell_type": "code",
   "execution_count": null,
   "metadata": {},
   "outputs": [],
   "source": [
    "hk = df.query(\"ISO_A3 == 'HKG'\")"
   ]
  },
  {
   "cell_type": "code",
   "execution_count": null,
   "metadata": {},
   "outputs": [],
   "source": [
    "hk = df.query(\"NAME == 'Hong Kong'\")"
   ]
  },
  {
   "cell_type": "code",
   "execution_count": null,
   "metadata": {},
   "outputs": [],
   "source": [
    "hk.plot();"
   ]
  },
  {
   "cell_type": "markdown",
   "metadata": {},
   "source": [
    "##### Retrieve Shapely Multipolygon"
   ]
  },
  {
   "cell_type": "code",
   "execution_count": null,
   "metadata": {},
   "outputs": [],
   "source": [
    "hk_shape = hk.iloc[0][\"geometry\"]"
   ]
  },
  {
   "cell_type": "code",
   "execution_count": null,
   "metadata": {},
   "outputs": [],
   "source": [
    "type(hk_shape)"
   ]
  },
  {
   "cell_type": "code",
   "execution_count": null,
   "metadata": {},
   "outputs": [],
   "source": [
    "hk_shape"
   ]
  },
  {
   "cell_type": "code",
   "execution_count": null,
   "metadata": {},
   "outputs": [],
   "source": [
    "shape.wkt"
   ]
  },
  {
   "cell_type": "code",
   "execution_count": null,
   "metadata": {},
   "outputs": [],
   "source": [
    "from shapely.geometry import Point\n",
    "\n",
    "p = Point(114.172239, 22.295719 ) # Kowloon Hotel"
   ]
  },
  {
   "cell_type": "code",
   "execution_count": null,
   "metadata": {},
   "outputs": [],
   "source": [
    "p.within(hk_shape)"
   ]
  },
  {
   "cell_type": "code",
   "execution_count": null,
   "metadata": {},
   "outputs": [],
   "source": [
    "import folium"
   ]
  },
  {
   "cell_type": "code",
   "execution_count": null,
   "metadata": {},
   "outputs": [],
   "source": [
    "m = folium.Map(location=[22.295719, 114.172239], zoom_start=16)\n",
    "m"
   ]
  },
  {
   "cell_type": "code",
   "execution_count": null,
   "metadata": {},
   "outputs": [],
   "source": [
    "m = folium.Map(location=[22.295719, 114.172239], zoom_start=16)\n",
    "\n",
    "folium.Marker([22.295719, 114.172239], popup=\"The Kowloon Hotel\").add_to(m)\n",
    "m"
   ]
  },
  {
   "cell_type": "markdown",
   "metadata": {},
   "source": [
    "Adding our Shape"
   ]
  },
  {
   "cell_type": "code",
   "execution_count": null,
   "metadata": {},
   "outputs": [],
   "source": [
    "m = folium.Map(location=[22.295719, 114.172239], zoom_start=10)\n",
    "\n",
    "jsondata = hk.to_json()\n",
    "\n",
    "folium.GeoJson(\n",
    "    jsondata,\n",
    "    style_function=lambda feature: {\n",
    "        'fillColor': '#ffff00',\n",
    "        'color': 'black',\n",
    "        'weight': 2,\n",
    "        'dashArray': '5, 5'\n",
    "    }\n",
    ").add_to(m)\n",
    "\n",
    "m"
   ]
  },
  {
   "cell_type": "markdown",
   "metadata": {},
   "source": [
    "### Retrieve Street Network from OSM Data using osmnx\n",
    "\n",
    "* drive - get drivable public streets (but not service roads)\n",
    "* drive_service - get drivable streets, including service roads\n",
    "* walk - get all streets and paths that pedestrians can use (this network type ignores one-way directionality)\n",
    "* bike - get all streets and paths that cyclists can use\n",
    "* all - download all non-private OSM streets and paths\n",
    "* all_private - download all OSM streets and paths, including private-access ones"
   ]
  },
  {
   "cell_type": "code",
   "execution_count": null,
   "metadata": {},
   "outputs": [],
   "source": [
    "import osmnx as ox"
   ]
  },
  {
   "cell_type": "code",
   "execution_count": null,
   "metadata": {},
   "outputs": [],
   "source": [
    "G = ox.graph_from_place('Hong Kong Island', which_result=2, network_type='drive')"
   ]
  },
  {
   "cell_type": "code",
   "execution_count": null,
   "metadata": {},
   "outputs": [],
   "source": [
    "fig, ax = ox.plot_graph(G)"
   ]
  },
  {
   "cell_type": "code",
   "execution_count": null,
   "metadata": {},
   "outputs": [],
   "source": [
    "nodes, streets = ox.graph_to_gdfs(G)"
   ]
  },
  {
   "cell_type": "code",
   "execution_count": null,
   "metadata": {},
   "outputs": [],
   "source": [
    "len(streets)"
   ]
  },
  {
   "cell_type": "code",
   "execution_count": null,
   "metadata": {},
   "outputs": [],
   "source": [
    "m = folium.Map([22.295719, 114.172239],\n",
    "zoom_start=13,tiles=\"CartoDB dark_matter\")\n",
    "\n",
    "jsondata = streets.to_json()\n",
    "\n",
    "style = {'color': '#FFDD66', \n",
    "         'weight':'1'}\n",
    "folium.GeoJson(jsondata, style_function=lambda x: style).add_to(m)\n",
    "m"
   ]
  },
  {
   "cell_type": "markdown",
   "metadata": {},
   "source": [
    "### Find ATMs\n",
    "\n",
    "see: https://wiki.openstreetmap.org/wiki/Key:amenity"
   ]
  },
  {
   "cell_type": "code",
   "execution_count": null,
   "metadata": {},
   "outputs": [],
   "source": [
    "atm = ox.pois_from_place(\"Hong Kong Island\", amenities=['atm'])"
   ]
  },
  {
   "cell_type": "code",
   "execution_count": null,
   "metadata": {},
   "outputs": [],
   "source": [
    "len(atm)"
   ]
  },
  {
   "cell_type": "code",
   "execution_count": null,
   "metadata": {},
   "outputs": [],
   "source": [
    "atm"
   ]
  },
  {
   "cell_type": "code",
   "execution_count": null,
   "metadata": {},
   "outputs": [],
   "source": [
    "import html\n",
    "\n",
    "m = folium.Map([22.295719, 114.172239],zoom_start=15)\n",
    "\n",
    "\n",
    "def atm2poi(x):\n",
    "    lng = x[\"geometry\"].x\n",
    "    lat = x[\"geometry\"].y\n",
    "    operator = x[\"operator\"]\n",
    "\n",
    "    if type(operator) == str:\n",
    "        name = html.escape(operator)\n",
    "    else:\n",
    "        name = \"unkown bank\"\n",
    "   \n",
    "    folium.Marker([lat,lng], \n",
    "              popup=name,\n",
    "              icon=folium.Icon(color=\"green\", prefix=\"fa\", icon=\"credit-card\")).add_to(m)\n",
    "\n",
    "\n",
    "atm.apply(atm2poi, axis=1)\n",
    "\n",
    "m"
   ]
  },
  {
   "cell_type": "markdown",
   "metadata": {},
   "source": [
    "### Other Data"
   ]
  },
  {
   "cell_type": "code",
   "execution_count": null,
   "metadata": {},
   "outputs": [],
   "source": [
    "restaurant = ox.pois_from_place(\"Hong Kong Island\", amenities=['restaurant'])"
   ]
  },
  {
   "cell_type": "code",
   "execution_count": null,
   "metadata": {},
   "outputs": [],
   "source": [
    "len(restaurant)"
   ]
  },
  {
   "cell_type": "code",
   "execution_count": null,
   "metadata": {},
   "outputs": [],
   "source": [
    "restaurant"
   ]
  },
  {
   "cell_type": "code",
   "execution_count": null,
   "metadata": {},
   "outputs": [],
   "source": []
  }
 ],
 "metadata": {
  "kernelspec": {
   "display_name": "GeoPython",
   "language": "python",
   "name": "geopython"
  },
  "language_info": {
   "codemirror_mode": {
    "name": "ipython",
    "version": 3
   },
   "file_extension": ".py",
   "mimetype": "text/x-python",
   "name": "python",
   "nbconvert_exporter": "python",
   "pygments_lexer": "ipython3",
   "version": "3.7.7"
  }
 },
 "nbformat": 4,
 "nbformat_minor": 4
}
